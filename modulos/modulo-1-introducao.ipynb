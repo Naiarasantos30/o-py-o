{
  "nbformat": 4,
  "nbformat_minor": 0,
  "metadata": {
    "kernelspec": {
      "display_name": "Python 3",
      "language": "python",
      "name": "python3"
    },
    "language_info": {
      "codemirror_mode": {
        "name": "ipython",
        "version": 3
      },
      "file_extension": ".py",
      "mimetype": "text/x-python",
      "name": "python",
      "nbconvert_exporter": "python",
      "pygments_lexer": "ipython3",
      "version": "3.6.10"
    },
    "colab": {
      "name": "modulo-1-introducao.ipynb",
      "provenance": []
    }
  },
  "cells": [
    {
      "cell_type": "markdown",
      "metadata": {
        "id": "b0mvxTNteipL",
        "colab_type": "text"
      },
      "source": [
        "<img src=\"https://github.com/Naiarasantos30/o-py-o/blob/master/imagens/1.png?raw=1\">\n",
        "\n",
        "## Revisando o conteúdo da semana!\n",
        "\n",
        "#Naiara Santos"
      ]
    },
    {
      "cell_type": "markdown",
      "metadata": {
        "id": "QFC3Z-GxeipP",
        "colab_type": "text"
      },
      "source": [
        "1 - Em uma instrução print, o que acontece se você omitir um dos parênteses ou ambos?"
      ]
    },
    {
      "cell_type": "code",
      "metadata": {
        "id": "3Fm4h-BxeipT",
        "colab_type": "code",
        "colab": {}
      },
      "source": [
        ""
      ],
      "execution_count": null,
      "outputs": []
    },
    {
      "cell_type": "markdown",
      "metadata": {
        "id": "jMLr1IzXeipi",
        "colab_type": "text"
      },
      "source": [
        "2 - O que acontece se puser um sinal de mais antes de um número? E se escrever assim: 2++2?"
      ]
    },
    {
      "cell_type": "code",
      "metadata": {
        "id": "MWsidSSQeipj",
        "colab_type": "code",
        "colab": {}
      },
      "source": [
        ""
      ],
      "execution_count": null,
      "outputs": []
    },
    {
      "cell_type": "markdown",
      "metadata": {
        "id": "P2MgHGMLeipt",
        "colab_type": "text"
      },
      "source": [
        "3 - O que acontece se você tentar usar 02 isso no Python?"
      ]
    },
    {
      "cell_type": "code",
      "metadata": {
        "id": "GYBynUDMeipx",
        "colab_type": "code",
        "colab": {}
      },
      "source": [
        ""
      ],
      "execution_count": null,
      "outputs": []
    },
    {
      "cell_type": "markdown",
      "metadata": {
        "id": "w_SEMf7yeip_",
        "colab_type": "text"
      },
      "source": [
        "4 - Quantos segundos há em 42 minutos e 42 segundos?"
      ]
    },
    {
      "cell_type": "code",
      "metadata": {
        "id": "OULuBHm6eiqD",
        "colab_type": "code",
        "colab": {}
      },
      "source": [
        ""
      ],
      "execution_count": null,
      "outputs": []
    },
    {
      "cell_type": "markdown",
      "metadata": {
        "id": "OvuNqN2eeiqP",
        "colab_type": "text"
      },
      "source": [
        "5 - Vimos que n = 42 é legal. E 42 = n?"
      ]
    },
    {
      "cell_type": "code",
      "metadata": {
        "id": "OE8vqvbyeiqS",
        "colab_type": "code",
        "colab": {}
      },
      "source": [
        ""
      ],
      "execution_count": null,
      "outputs": []
    },
    {
      "cell_type": "markdown",
      "metadata": {
        "id": "7ZbJ0p5keiqc",
        "colab_type": "text"
      },
      "source": [
        "6 - Ou x = y = 1?\n"
      ]
    },
    {
      "cell_type": "code",
      "metadata": {
        "id": "7oJZu-cEeiqd",
        "colab_type": "code",
        "colab": {}
      },
      "source": [
        ""
      ],
      "execution_count": null,
      "outputs": []
    },
    {
      "cell_type": "markdown",
      "metadata": {
        "id": "Rd45w2UReiqr",
        "colab_type": "text"
      },
      "source": [
        "7 - O que acontece se você puser um ponto e vírgula no fim de uma instrução no Python? E um ponto?"
      ]
    },
    {
      "cell_type": "code",
      "metadata": {
        "id": "OW48d89neiqt",
        "colab_type": "code",
        "colab": {}
      },
      "source": [
        ""
      ],
      "execution_count": null,
      "outputs": []
    },
    {
      "cell_type": "markdown",
      "metadata": {
        "id": "mWYYmY8keiq6",
        "colab_type": "text"
      },
      "source": [
        "8 - Em notação matemática é possível multiplicar x e y desta forma: xy. O que acontece se você tentar fazer o mesmo no Python?"
      ]
    },
    {
      "cell_type": "code",
      "metadata": {
        "id": "ZrweLiHYeiq7",
        "colab_type": "code",
        "colab": {}
      },
      "source": [
        ""
      ],
      "execution_count": null,
      "outputs": []
    },
    {
      "cell_type": "markdown",
      "metadata": {
        "id": "ffLw5fxbeirA",
        "colab_type": "text"
      },
      "source": [
        "---"
      ]
    },
    {
      "cell_type": "markdown",
      "metadata": {
        "id": "BWLwo-ofeirB",
        "colab_type": "text"
      },
      "source": [
        "## Quais são as outras formas de praticar esses conceitos?\n",
        "\n",
        "<img src=\"https://media.giphy.com/media/2wS8Hh619rZvvf95op/giphy.gif\" align=\"left\">"
      ]
    },
    {
      "cell_type": "markdown",
      "metadata": {
        "id": "oe5s2eEBeirE",
        "colab_type": "text"
      },
      "source": [
        "<Adicionar atividade de sua preferência para aplicação dos conceitos>"
      ]
    }
  ]
}